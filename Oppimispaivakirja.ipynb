{
 "cells": [
  {
   "cell_type": "markdown",
   "id": "188c456a-2709-41d2-ba7a-d1fee7759e97",
   "metadata": {
    "tags": []
   },
   "source": [
    "# JODA 2022 Oppimispäiväkirja"
   ]
  },
  {
   "cell_type": "markdown",
   "id": "a2538381-9382-4620-8acf-1501497106f2",
   "metadata": {
    "tags": []
   },
   "source": [
    "## Week 1"
   ]
  },
  {
   "cell_type": "markdown",
   "id": "024d5264-119f-4af3-82c1-598f67b039b4",
   "metadata": {},
   "source": [
    "-Created Git Repository: https://github.com/htaim/JODA2022"
   ]
  },
  {
   "cell_type": "markdown",
   "id": "a83db3c9-de84-4673-a47e-497732f9b521",
   "metadata": {},
   "source": [
    "-This notebook is available on: https://github.com/htaim/JODA2022/blob/main/Oppimispaivakirja.ipynb"
   ]
  },
  {
   "cell_type": "code",
   "execution_count": null,
   "id": "fc7e8745-8bab-44c0-a791-d81b61b37d02",
   "metadata": {},
   "outputs": [],
   "source": []
  }
 ],
 "metadata": {
  "kernelspec": {
   "display_name": "Python 3 (ipykernel)",
   "language": "python",
   "name": "python3"
  },
  "language_info": {
   "codemirror_mode": {
    "name": "ipython",
    "version": 3
   },
   "file_extension": ".py",
   "mimetype": "text/x-python",
   "name": "python",
   "nbconvert_exporter": "python",
   "pygments_lexer": "ipython3",
   "version": "3.9.7"
  }
 },
 "nbformat": 4,
 "nbformat_minor": 5
}
