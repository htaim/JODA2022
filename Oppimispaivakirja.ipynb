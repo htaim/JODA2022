{
 "cells": [
  {
   "cell_type": "markdown",
   "id": "188c456a-2709-41d2-ba7a-d1fee7759e97",
   "metadata": {
    "tags": []
   },
   "source": [
    "# JODA 2022 Learning diary"
   ]
  },
  {
   "cell_type": "markdown",
   "id": "512c6359-f197-47fa-8c9d-675160f625e7",
   "metadata": {},
   "source": [
    "-This notebook is available on: https://github.com/htaim/JODA2022/blob/620a8bcbdd31c540c7b59642ec6126cfa45628d4/Oppimispaivakirja.ipynb"
   ]
  },
  {
   "cell_type": "markdown",
   "id": "a2538381-9382-4620-8acf-1501497106f2",
   "metadata": {
    "tags": []
   },
   "source": [
    "## Week 1"
   ]
  },
  {
   "cell_type": "markdown",
   "id": "024d5264-119f-4af3-82c1-598f67b039b4",
   "metadata": {},
   "source": [
    "-Created Git Repository: https://github.com/htaim/JODA2022"
   ]
  },
  {
   "cell_type": "markdown",
   "id": "cf3e5da6-31f2-4a92-814a-a3b6b3cf0093",
   "metadata": {},
   "source": [
    "-The learning diary for this cource will be updated on that Git Repository once a week minimum."
   ]
  },
  {
   "cell_type": "markdown",
   "id": "011b49cc-bdfe-4704-a70e-d0c27f74e910",
   "metadata": {},
   "source": [
    "-I created that repository and cloned it into my laptop in TUNI OneDrive folder, so there is a backup of backup with this implementation. Version control in Git is easy, and commits will be done often. This ensures agility with going back to older versions. Git is easy to use from command line. At the end of the course, the whole learning diary can be published for easy access with .zip export."
   ]
  },
  {
   "cell_type": "markdown",
   "id": "cb8641cf-cb42-4100-abc4-2c6bccd9a956",
   "metadata": {},
   "source": [
    "This week I participated in live lecture, and watched the demo session recording. I noticed that the course staff uses MacOS devices, and some of the installation steps could be explained a little more specified format. I think that is not relevant to only show \"type pip install...\", but explain the different installation options and how they differ from each other."
   ]
  },
  {
   "cell_type": "markdown",
   "id": "41e498f6-bed6-4e17-beb4-0ce89a3fd347",
   "metadata": {},
   "source": [
    "### Week's insights"
   ]
  },
  {
   "cell_type": "markdown",
   "id": "a857c59a-35ad-4553-ad23-a95ab91e8293",
   "metadata": {},
   "source": [
    "1. Learned to created Git repo and improved in creating ssh keys and using command line\n",
    "2. Learned from Jupyter Notebooks, how they are used, and how they work\n",
    "3. Learned to use Python commands inside the Jupyter Notebook\n",
    "4. Learned to use Markdown to format text in Jupyter Notebook\n",
    "5. Learned to use basic Pandas functions"
   ]
  },
  {
   "cell_type": "markdown",
   "id": "ab7d6860-99d6-43a1-9d10-82e8888756be",
   "metadata": {},
   "source": [
    "### Code demo"
   ]
  },
  {
   "cell_type": "code",
   "execution_count": 1,
   "id": "6c9966d8-44f4-476b-9232-5c55dad983a1",
   "metadata": {},
   "outputs": [],
   "source": [
    "#Demo how to import data into this Python notebook, and do some basic analysis\n",
    "#Code illustrated in this partially referenced from: https://github.com/InfoTUNI/joda2022/blob/master/koodiesimerkit/Session%201%20-%20Analysis%20of%20Transactions.ipynb\n",
    "#Libraries can be imported as:\n",
    "import pandas\n",
    "import matplotlib.pyplot as plot\n",
    "from matplotlib import style"
   ]
  },
  {
   "cell_type": "code",
   "execution_count": 9,
   "id": "5a7553b5-d9ed-4e18-84be-d2c990b3a0ea",
   "metadata": {},
   "outputs": [
    {
     "name": "stdout",
     "output_type": "stream",
     "text": [
      "  Transaction_date   Product  Price Payment_Type               Name  \\\n",
      "0      1/2/09 6:17  Product1   1200   Mastercard           carolina   \n",
      "1      1/2/09 4:53  Product1   1200         Visa             Betina   \n",
      "2     1/2/09 13:08  Product1   1200   Mastercard  Federica e Andrea   \n",
      "3     1/3/09 14:44  Product1   1200         Visa              Gouya   \n",
      "4     1/4/09 12:56  Product2   3600         Visa            Gerd W    \n",
      "\n",
      "                           City     State         Country Account_Created  \\\n",
      "0                      Basildon   England  United Kingdom     1/2/09 6:00   \n",
      "1  Parkville                           MO   United States     1/2/09 4:42   \n",
      "2  Astoria                             OR   United States    1/1/09 16:21   \n",
      "3                        Echuca  Victoria       Australia   9/25/05 21:13   \n",
      "4  Cahaba Heights                      AL   United States  11/15/08 15:47   \n",
      "\n",
      "     Last_Login   Latitude   Longitude  \n",
      "0   1/2/09 6:08  51.500000   -1.116667  \n",
      "1   1/2/09 7:49  39.195000  -94.681940  \n",
      "2  1/3/09 12:32  46.188060 -123.830000  \n",
      "3  1/3/09 14:22 -36.133333  144.750000  \n",
      "4  1/4/09 12:45  33.520560  -86.802500  \n",
      "Transaction_date     object\n",
      "Product              object\n",
      "Price                 int64\n",
      "Payment_Type         object\n",
      "Name                 object\n",
      "City                 object\n",
      "State                object\n",
      "Country              object\n",
      "Account_Created      object\n",
      "Last_Login           object\n",
      "Latitude            float64\n",
      "Longitude           float64\n",
      "dtype: object\n"
     ]
    }
   ],
   "source": [
    "#Data can be imported into pandas from url containing a csv file:\n",
    "url = 'https://github.com/jodatut/2020/raw/master/koodiesimerkit/SalesJan2009.csv'\n",
    "\n",
    "dataframe = pandas.read_csv(url)\n",
    "\n",
    "#An overview of data and data types\n",
    "print(dataframe.head())\n",
    "print(dataframe.dtypes)"
   ]
  },
  {
   "cell_type": "code",
   "execution_count": null,
   "id": "d02a8bbf-d637-46d0-8d24-9791eb6ca8d4",
   "metadata": {},
   "outputs": [],
   "source": [
    "#The datatypes can be changed:\n",
    "dataframe['Transaction_date'] = pd.to_datetime(dataframe['Transaction_date'])\n",
    "print(dataframe.dtypes)"
   ]
  },
  {
   "cell_type": "markdown",
   "id": "6b59dd4c-1316-4cf4-ad67-bbc7210c5dab",
   "metadata": {},
   "source": [
    "### Learning outcomes"
   ]
  },
  {
   "cell_type": "markdown",
   "id": "8e91f348-f4a3-42e2-89fe-e6ab08f999a1",
   "metadata": {},
   "source": [
    "1. My goal is to take a step forward to data analytics, learn the latest and most important tools and improve myself as a data scientist."
   ]
  },
  {
   "cell_type": "markdown",
   "id": "eb3ec0b3-3e3e-4493-8e93-180be9709cee",
   "metadata": {},
   "source": [
    "2. I will be chasing the most advanced tools and methods in this course, but the highest course grade will not be my main goal."
   ]
  },
  {
   "cell_type": "markdown",
   "id": "3e738cb8-9b96-4299-acc3-873a8c182c97",
   "metadata": {},
   "source": [
    "3. I try to focus especially on the main assignment. I will use that as a part of my portfolio in CV."
   ]
  }
 ],
 "metadata": {
  "kernelspec": {
   "display_name": "Python 3 (ipykernel)",
   "language": "python",
   "name": "python3"
  },
  "language_info": {
   "codemirror_mode": {
    "name": "ipython",
    "version": 3
   },
   "file_extension": ".py",
   "mimetype": "text/x-python",
   "name": "python",
   "nbconvert_exporter": "python",
   "pygments_lexer": "ipython3",
   "version": "3.9.7"
  },
  "toc-showtags": true
 },
 "nbformat": 4,
 "nbformat_minor": 5
}
