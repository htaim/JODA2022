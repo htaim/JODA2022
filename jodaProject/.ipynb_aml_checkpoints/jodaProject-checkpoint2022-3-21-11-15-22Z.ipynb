{
  "cells": [
    {
      "cell_type": "markdown",
      "source": [
        "# This notebook is a Johdanto datatieteeseen 2022 project. "
      ],
      "metadata": {
        "nteract": {
          "transient": {
            "deleting": false
          }
        }
      }
    },
    {
      "cell_type": "markdown",
      "source": [
        "## Collecting data"
      ],
      "metadata": {
        "nteract": {
          "transient": {
            "deleting": false
          }
        }
      }
    },
    {
      "cell_type": "markdown",
      "source": [
        "In this project, I'm going to use data from Finnish car dealing website Autotalli.com. With this data, I'm going to create a ML model to predict the sales price for particular car. With this in mind, consumer or car dealer can check the valid price for a car. This is particularly interesting, because due to the component crisis, car markets are not saturated. The demand for cars is higher than supply, and therefore the prices have gone up. Before there used to be around 100k cars on sale in nettiauto.com, but nowadays there are about 80k sales notes. I first tried to scrape information from there, but the page loaded a dummy website because it recognised scraping."
      ],
      "metadata": {
        "nteract": {
          "transient": {
            "deleting": false
          }
        }
      }
    },
    {
      "cell_type": "code",
      "source": [
        "#Import neede libraries\r\n",
        "import pandas as pd\r\n",
        "import numpy as np\r\n",
        "from bs4 import BeautifulSoup as bs\r\n",
        "import requests as rq\r\n",
        "import math\r\n"
      ],
      "outputs": [],
      "execution_count": 74,
      "metadata": {
        "jupyter": {
          "outputs_hidden": false,
          "source_hidden": false
        },
        "nteract": {
          "transient": {
            "deleting": false
          }
        },
        "gather": {
          "logged": 1650533290793
        }
      }
    },
    {
      "cell_type": "code",
      "source": [
        "#Scrape data from Autotalli.com\r\n",
        "url = \"https://www.autotalli.com/vaihtoautot/listaa/sivu/\"\r\n",
        "\r\n",
        "#Dataset for scraped data. This dataset is saved into .csv file as a backup, so no need to scrape multiple times if an error with later coding is occurred.\r\n",
        "raw_data = {\r\n",
        "    'Make': [],\r\n",
        "    'Model': [],\r\n",
        "    'Odometer': [],\r\n",
        "    'Sales price': []\r\n",
        "}"
      ],
      "outputs": [],
      "execution_count": 76,
      "metadata": {
        "jupyter": {
          "source_hidden": false,
          "outputs_hidden": false
        },
        "nteract": {
          "transient": {
            "deleting": false
          }
        },
        "gather": {
          "logged": 1650533329692
        }
      }
    },
    {
      "cell_type": "code",
      "source": [
        "#BS object\r\n",
        "autotalli_page = rq.get(url)\r\n",
        "soup = bs(autotalli_page.content, 'html.parser')\r\n",
        "#There are 20 cars displayed in each page, so number of pages is number of cars/cars per page, rounded up.\r\n",
        "intMaxPages = math.ceil(int(soup.find('span', class_=\"yhteensa\").text)/20)\r\n",
        "\r\n",
        "#Loop through all pages\r\n",
        "for page in range(1,intMaxPages+1):\r\n",
        "    #BS object\r\n",
        "    url = url + str(page)\r\n",
        "    autotalli_page = rq.get(url)\r\n",
        "    soup = bs(autotalli_page.content, 'html.parser')\r\n",
        "    salesNotes = soup.find_all(\"div\", class_=\"carsListItemDetailsContainer\")\r\n",
        "    counter = 0\r\n",
        "\r\n",
        "    #Loop through all notes in one page\r\n",
        "    for note in salesNotes:\r\n",
        "        details = note.find(class_=\"carsListItemCarNameContainer\").find(class_=\"carsListItemNameLink\").text\r\n",
        "        #Take car make and model out of details\r\n",
        "        details_splitted = details.split()\r\n",
        "\r\n",
        "        make = details_splitted[0]\r\n",
        "        model = details_splitted[1]\r\n",
        "\r\n",
        "        price = note.find(class_=\"carsListItemCarPrice\").find(class_=\"carsListItemCarBottomContainerItem\").text\r\n",
        "        odo = note.find(class_=\"usedCarsListItemCarMeterReading\").find(class_=\"carsListItemCarBottomContainerItem\").text\r\n",
        "\r\n",
        "        #Add data to vector\r\n",
        "        raw_data['Make'].append(make)\r\n",
        "        raw_data['Model'].append(model)\r\n",
        "        raw_data['Odometer'].append(odo)\r\n",
        "        raw_data['Sales price'].append(price)\r\n",
        "        \r\n",
        "#Write vector to pd dataframe        \r\n",
        "dfRaw = pd.DataFrame(raw_data)\r\n",
        "print(\"Data scraped with total of\", len(dfRaw), \"rows\")"
      ],
      "outputs": [
        {
          "output_type": "stream",
          "name": "stdout",
          "text": "Data scraped with total of 43720\n"
        }
      ],
      "execution_count": 77,
      "metadata": {
        "jupyter": {
          "source_hidden": false,
          "outputs_hidden": false
        },
        "nteract": {
          "transient": {
            "deleting": false
          }
        },
        "gather": {
          "logged": 1650535853477
        }
      }
    },
    {
      "cell_type": "code",
      "source": [
        "#Write the data to .csv file\r\n",
        "dfRaw.to_csv(\"raw_data.csv\")"
      ],
      "outputs": [],
      "execution_count": 84,
      "metadata": {
        "jupyter": {
          "source_hidden": false,
          "outputs_hidden": false
        },
        "nteract": {
          "transient": {
            "deleting": false
          }
        },
        "gather": {
          "logged": 1650536395519
        }
      }
    },
    {
      "cell_type": "markdown",
      "source": [
        "## "
      ],
      "metadata": {
        "nteract": {
          "transient": {
            "deleting": false
          }
        }
      }
    },
    {
      "cell_type": "markdown",
      "source": [
        "## Data processing"
      ],
      "metadata": {
        "nteract": {
          "transient": {
            "deleting": false
          }
        }
      }
    },
    {
      "cell_type": "markdown",
      "source": [
        "The data itself is in pretty nice format, because the scraper was implemented for this website only."
      ],
      "metadata": {
        "nteract": {
          "transient": {
            "deleting": false
          }
        }
      }
    },
    {
      "cell_type": "code",
      "source": [
        "#Load the csv file to Pandas dataframe and see what've got\r\n",
        "data = pd.read_csv('raw_data.csv')\r\n",
        "\r\n",
        "#Some basic information about the data\r\n",
        "data.info()\r\n",
        "data.head()"
      ],
      "outputs": [
        {
          "output_type": "stream",
          "name": "stdout",
          "text": "<class 'pandas.core.frame.DataFrame'>\nRangeIndex: 43720 entries, 0 to 43719\nData columns (total 5 columns):\n #   Column       Non-Null Count  Dtype \n---  ------       --------------  ----- \n 0   Unnamed: 0   43720 non-null  int64 \n 1   Make         43720 non-null  object\n 2   Model        43720 non-null  object\n 3   Odometer     43720 non-null  int64 \n 4   Sales price  43720 non-null  int64 \ndtypes: int64(3), object(2)\nmemory usage: 1.7+ MB\n"
        },
        {
          "output_type": "execute_result",
          "execution_count": 99,
          "data": {
            "text/plain": "   Unnamed: 0           Make Model  Odometer  Sales price\n0           0  Mercedes-Benz     S     22000        91800\n1           1           Ford  Edge    101000        31800\n2           2            BMW   iX3      4000        72800\n3           3            BMW   745     26000        78800\n4           4           Audi   RS3     79000        70800",
            "text/html": "<div>\n<style scoped>\n    .dataframe tbody tr th:only-of-type {\n        vertical-align: middle;\n    }\n\n    .dataframe tbody tr th {\n        vertical-align: top;\n    }\n\n    .dataframe thead th {\n        text-align: right;\n    }\n</style>\n<table border=\"1\" class=\"dataframe\">\n  <thead>\n    <tr style=\"text-align: right;\">\n      <th></th>\n      <th>Unnamed: 0</th>\n      <th>Make</th>\n      <th>Model</th>\n      <th>Odometer</th>\n      <th>Sales price</th>\n    </tr>\n  </thead>\n  <tbody>\n    <tr>\n      <th>0</th>\n      <td>0</td>\n      <td>Mercedes-Benz</td>\n      <td>S</td>\n      <td>22000</td>\n      <td>91800</td>\n    </tr>\n    <tr>\n      <th>1</th>\n      <td>1</td>\n      <td>Ford</td>\n      <td>Edge</td>\n      <td>101000</td>\n      <td>31800</td>\n    </tr>\n    <tr>\n      <th>2</th>\n      <td>2</td>\n      <td>BMW</td>\n      <td>iX3</td>\n      <td>4000</td>\n      <td>72800</td>\n    </tr>\n    <tr>\n      <th>3</th>\n      <td>3</td>\n      <td>BMW</td>\n      <td>745</td>\n      <td>26000</td>\n      <td>78800</td>\n    </tr>\n    <tr>\n      <th>4</th>\n      <td>4</td>\n      <td>Audi</td>\n      <td>RS3</td>\n      <td>79000</td>\n      <td>70800</td>\n    </tr>\n  </tbody>\n</table>\n</div>"
          },
          "metadata": {}
        }
      ],
      "execution_count": 99,
      "metadata": {
        "jupyter": {
          "source_hidden": false,
          "outputs_hidden": false
        },
        "nteract": {
          "transient": {
            "deleting": false
          }
        },
        "gather": {
          "logged": 1650537026271
        }
      }
    },
    {
      "cell_type": "markdown",
      "source": [
        "The data seems like very clean. Let's remove the \"Unnamed\" column and search for irregularities in different columns."
      ],
      "metadata": {
        "nteract": {
          "transient": {
            "deleting": false
          }
        }
      }
    },
    {
      "cell_type": "code",
      "source": [
        "data.drop(columns = ['Unnamed: 0'], inplace = True)\r\n",
        "data.head()"
      ],
      "outputs": [
        {
          "output_type": "error",
          "ename": "KeyError",
          "evalue": "\"['Unnamed: 0'] not found in axis\"",
          "traceback": [
            "\u001b[0;31m---------------------------------------------------------------------------\u001b[0m",
            "\u001b[0;31mKeyError\u001b[0m                                  Traceback (most recent call last)",
            "\u001b[0;32m<ipython-input-128-94d98ea3da47>\u001b[0m in \u001b[0;36m<module>\u001b[0;34m\u001b[0m\n\u001b[0;32m----> 1\u001b[0;31m \u001b[0mdata\u001b[0m\u001b[0;34m.\u001b[0m\u001b[0mdrop\u001b[0m\u001b[0;34m(\u001b[0m\u001b[0mcolumns\u001b[0m \u001b[0;34m=\u001b[0m \u001b[0;34m[\u001b[0m\u001b[0;34m'Unnamed: 0'\u001b[0m\u001b[0;34m]\u001b[0m\u001b[0;34m,\u001b[0m \u001b[0minplace\u001b[0m \u001b[0;34m=\u001b[0m \u001b[0;32mTrue\u001b[0m\u001b[0;34m)\u001b[0m\u001b[0;34m\u001b[0m\u001b[0;34m\u001b[0m\u001b[0m\n\u001b[0m\u001b[1;32m      2\u001b[0m \u001b[0mdata\u001b[0m\u001b[0;34m.\u001b[0m\u001b[0mhead\u001b[0m\u001b[0;34m(\u001b[0m\u001b[0;34m)\u001b[0m\u001b[0;34m\u001b[0m\u001b[0;34m\u001b[0m\u001b[0m\n",
            "\u001b[0;32m/anaconda/envs/azureml_py38/lib/python3.8/site-packages/pandas/core/frame.py\u001b[0m in \u001b[0;36mdrop\u001b[0;34m(self, labels, axis, index, columns, level, inplace, errors)\u001b[0m\n\u001b[1;32m   4165\u001b[0m                 \u001b[0mweight\u001b[0m  \u001b[0;36m1.0\u001b[0m     \u001b[0;36m0.8\u001b[0m\u001b[0;34m\u001b[0m\u001b[0;34m\u001b[0m\u001b[0m\n\u001b[1;32m   4166\u001b[0m         \"\"\"\n\u001b[0;32m-> 4167\u001b[0;31m         return super().drop(\n\u001b[0m\u001b[1;32m   4168\u001b[0m             \u001b[0mlabels\u001b[0m\u001b[0;34m=\u001b[0m\u001b[0mlabels\u001b[0m\u001b[0;34m,\u001b[0m\u001b[0;34m\u001b[0m\u001b[0;34m\u001b[0m\u001b[0m\n\u001b[1;32m   4169\u001b[0m             \u001b[0maxis\u001b[0m\u001b[0;34m=\u001b[0m\u001b[0maxis\u001b[0m\u001b[0;34m,\u001b[0m\u001b[0;34m\u001b[0m\u001b[0;34m\u001b[0m\u001b[0m\n",
            "\u001b[0;32m/anaconda/envs/azureml_py38/lib/python3.8/site-packages/pandas/core/generic.py\u001b[0m in \u001b[0;36mdrop\u001b[0;34m(self, labels, axis, index, columns, level, inplace, errors)\u001b[0m\n\u001b[1;32m   3887\u001b[0m         \u001b[0;32mfor\u001b[0m \u001b[0maxis\u001b[0m\u001b[0;34m,\u001b[0m \u001b[0mlabels\u001b[0m \u001b[0;32min\u001b[0m \u001b[0maxes\u001b[0m\u001b[0;34m.\u001b[0m\u001b[0mitems\u001b[0m\u001b[0;34m(\u001b[0m\u001b[0;34m)\u001b[0m\u001b[0;34m:\u001b[0m\u001b[0;34m\u001b[0m\u001b[0;34m\u001b[0m\u001b[0m\n\u001b[1;32m   3888\u001b[0m             \u001b[0;32mif\u001b[0m \u001b[0mlabels\u001b[0m \u001b[0;32mis\u001b[0m \u001b[0;32mnot\u001b[0m \u001b[0;32mNone\u001b[0m\u001b[0;34m:\u001b[0m\u001b[0;34m\u001b[0m\u001b[0;34m\u001b[0m\u001b[0m\n\u001b[0;32m-> 3889\u001b[0;31m                 \u001b[0mobj\u001b[0m \u001b[0;34m=\u001b[0m \u001b[0mobj\u001b[0m\u001b[0;34m.\u001b[0m\u001b[0m_drop_axis\u001b[0m\u001b[0;34m(\u001b[0m\u001b[0mlabels\u001b[0m\u001b[0;34m,\u001b[0m \u001b[0maxis\u001b[0m\u001b[0;34m,\u001b[0m \u001b[0mlevel\u001b[0m\u001b[0;34m=\u001b[0m\u001b[0mlevel\u001b[0m\u001b[0;34m,\u001b[0m \u001b[0merrors\u001b[0m\u001b[0;34m=\u001b[0m\u001b[0merrors\u001b[0m\u001b[0;34m)\u001b[0m\u001b[0;34m\u001b[0m\u001b[0;34m\u001b[0m\u001b[0m\n\u001b[0m\u001b[1;32m   3890\u001b[0m \u001b[0;34m\u001b[0m\u001b[0m\n\u001b[1;32m   3891\u001b[0m         \u001b[0;32mif\u001b[0m \u001b[0minplace\u001b[0m\u001b[0;34m:\u001b[0m\u001b[0;34m\u001b[0m\u001b[0;34m\u001b[0m\u001b[0m\n",
            "\u001b[0;32m/anaconda/envs/azureml_py38/lib/python3.8/site-packages/pandas/core/generic.py\u001b[0m in \u001b[0;36m_drop_axis\u001b[0;34m(self, labels, axis, level, errors)\u001b[0m\n\u001b[1;32m   3921\u001b[0m                 \u001b[0mnew_axis\u001b[0m \u001b[0;34m=\u001b[0m \u001b[0maxis\u001b[0m\u001b[0;34m.\u001b[0m\u001b[0mdrop\u001b[0m\u001b[0;34m(\u001b[0m\u001b[0mlabels\u001b[0m\u001b[0;34m,\u001b[0m \u001b[0mlevel\u001b[0m\u001b[0;34m=\u001b[0m\u001b[0mlevel\u001b[0m\u001b[0;34m,\u001b[0m \u001b[0merrors\u001b[0m\u001b[0;34m=\u001b[0m\u001b[0merrors\u001b[0m\u001b[0;34m)\u001b[0m\u001b[0;34m\u001b[0m\u001b[0;34m\u001b[0m\u001b[0m\n\u001b[1;32m   3922\u001b[0m             \u001b[0;32melse\u001b[0m\u001b[0;34m:\u001b[0m\u001b[0;34m\u001b[0m\u001b[0;34m\u001b[0m\u001b[0m\n\u001b[0;32m-> 3923\u001b[0;31m                 \u001b[0mnew_axis\u001b[0m \u001b[0;34m=\u001b[0m \u001b[0maxis\u001b[0m\u001b[0;34m.\u001b[0m\u001b[0mdrop\u001b[0m\u001b[0;34m(\u001b[0m\u001b[0mlabels\u001b[0m\u001b[0;34m,\u001b[0m \u001b[0merrors\u001b[0m\u001b[0;34m=\u001b[0m\u001b[0merrors\u001b[0m\u001b[0;34m)\u001b[0m\u001b[0;34m\u001b[0m\u001b[0;34m\u001b[0m\u001b[0m\n\u001b[0m\u001b[1;32m   3924\u001b[0m             \u001b[0mresult\u001b[0m \u001b[0;34m=\u001b[0m \u001b[0mself\u001b[0m\u001b[0;34m.\u001b[0m\u001b[0mreindex\u001b[0m\u001b[0;34m(\u001b[0m\u001b[0;34m**\u001b[0m\u001b[0;34m{\u001b[0m\u001b[0maxis_name\u001b[0m\u001b[0;34m:\u001b[0m \u001b[0mnew_axis\u001b[0m\u001b[0;34m}\u001b[0m\u001b[0;34m)\u001b[0m\u001b[0;34m\u001b[0m\u001b[0;34m\u001b[0m\u001b[0m\n\u001b[1;32m   3925\u001b[0m \u001b[0;34m\u001b[0m\u001b[0m\n",
            "\u001b[0;32m/anaconda/envs/azureml_py38/lib/python3.8/site-packages/pandas/core/indexes/base.py\u001b[0m in \u001b[0;36mdrop\u001b[0;34m(self, labels, errors)\u001b[0m\n\u001b[1;32m   5285\u001b[0m         \u001b[0;32mif\u001b[0m \u001b[0mmask\u001b[0m\u001b[0;34m.\u001b[0m\u001b[0many\u001b[0m\u001b[0;34m(\u001b[0m\u001b[0;34m)\u001b[0m\u001b[0;34m:\u001b[0m\u001b[0;34m\u001b[0m\u001b[0;34m\u001b[0m\u001b[0m\n\u001b[1;32m   5286\u001b[0m             \u001b[0;32mif\u001b[0m \u001b[0merrors\u001b[0m \u001b[0;34m!=\u001b[0m \u001b[0;34m\"ignore\"\u001b[0m\u001b[0;34m:\u001b[0m\u001b[0;34m\u001b[0m\u001b[0;34m\u001b[0m\u001b[0m\n\u001b[0;32m-> 5287\u001b[0;31m                 \u001b[0;32mraise\u001b[0m \u001b[0mKeyError\u001b[0m\u001b[0;34m(\u001b[0m\u001b[0;34mf\"{labels[mask]} not found in axis\"\u001b[0m\u001b[0;34m)\u001b[0m\u001b[0;34m\u001b[0m\u001b[0;34m\u001b[0m\u001b[0m\n\u001b[0m\u001b[1;32m   5288\u001b[0m             \u001b[0mindexer\u001b[0m \u001b[0;34m=\u001b[0m \u001b[0mindexer\u001b[0m\u001b[0;34m[\u001b[0m\u001b[0;34m~\u001b[0m\u001b[0mmask\u001b[0m\u001b[0;34m]\u001b[0m\u001b[0;34m\u001b[0m\u001b[0;34m\u001b[0m\u001b[0m\n\u001b[1;32m   5289\u001b[0m         \u001b[0;32mreturn\u001b[0m \u001b[0mself\u001b[0m\u001b[0;34m.\u001b[0m\u001b[0mdelete\u001b[0m\u001b[0;34m(\u001b[0m\u001b[0mindexer\u001b[0m\u001b[0;34m)\u001b[0m\u001b[0;34m\u001b[0m\u001b[0;34m\u001b[0m\u001b[0m\n",
            "\u001b[0;31mKeyError\u001b[0m: \"['Unnamed: 0'] not found in axis\""
          ]
        }
      ],
      "execution_count": 128,
      "metadata": {
        "jupyter": {
          "source_hidden": false,
          "outputs_hidden": false
        },
        "nteract": {
          "transient": {
            "deleting": false
          }
        },
        "gather": {
          "logged": 1650539489595
        }
      }
    },
    {
      "cell_type": "code",
      "source": [
        "print(data['Make'].unique())"
      ],
      "outputs": [
        {
          "output_type": "stream",
          "name": "stdout",
          "text": "['Mercedes-Benz' 'Ford' 'BMW' 'Audi' 'Volkswagen' 'Skoda' 'Toyota' 'Mazda'\n 'Mitsubishi' 'Renault' 'Kia' 'Nissan' 'Peugeot' 'Fiat' 'Honda' 'Daewoo'\n 'Chevrolet' 'Saab' 'Chrysler' 'Volvo' 'Dacia' 'Jaguar' 'Opel' 'Hyundai'\n 'Land' 'Porsche']\n"
        }
      ],
      "execution_count": 101,
      "metadata": {
        "jupyter": {
          "source_hidden": false,
          "outputs_hidden": false
        },
        "nteract": {
          "transient": {
            "deleting": false
          }
        },
        "gather": {
          "logged": 1650537045697
        }
      }
    },
    {
      "cell_type": "code",
      "source": [
        "print(data['Model'].unique())"
      ],
      "outputs": [
        {
          "output_type": "stream",
          "name": "stdout",
          "text": "['S' 'Edge' 'iX3' '745' 'RS3' 'Crafter' 'Fiesta' 'Fabia' 'Corolla'\n 'Octavia' 'Focus' 'Passat' 'MPV' 'Lancer' '100' 'Laguna' '626' 'Grandis'\n 'A6' 'Scénic' 'Cerato' 'Avensis' 'Primera' \"cee'd\" 'Bora' '307' 'Croma'\n 'Mégane' 'Civic' '6' 'Evanda' 'Nubira' '9-5' 'Pt' 'V50' 'Picanto'\n 'Twingo' 'Yaris' 'CR-V' 'Kuga' 'Logan' 'XF' 'CLK' 'C' 'Insignia' 'V70'\n 'A4' 'S40' 'Punto' 'E' 'Astra' 'Sprinter' 'Scala' 'Eclipse' 'V40' 'V60'\n 'Golf' 'XC60' 'Prius+' 'C-HR' 'Caddy' 'Qashqai' 'IONIQ' 'NV300' 'A' 'GLE'\n 'Superb' 'X5' 'CLS' 'Rover' 'Taycan' 'e-tron']\n"
        }
      ],
      "execution_count": 102,
      "metadata": {
        "jupyter": {
          "source_hidden": false,
          "outputs_hidden": false
        },
        "nteract": {
          "transient": {
            "deleting": false
          }
        },
        "gather": {
          "logged": 1650537048119
        }
      }
    },
    {
      "cell_type": "code",
      "source": [
        "print(data['Odometer'].unique())\r\n"
      ],
      "outputs": [
        {
          "output_type": "stream",
          "name": "stdout",
          "text": "[ 22000 101000   4000  26000  79000      0  10000   1000  15000      1\n 224000 573000 276000 207000 343000 288000 384000 379000 243350 169000\n 472000 213000 313000 265000 217000 225000 338000 304000 241000 179500\n 212000 227000 127000 188000 355000 197000 111000 120000 147700 381000\n 356000 106000 163000 270000 351000 231000 247000 216000 330000 220000\n 107000 333000 239000 151000 113000 165000 118000  30000  60000  92000\n 155000  29000 249000  94000  46000 105000  97000  40000  72000  53000\n  57000  98000  95000  17000  11000   7000 139000   6000  88000  38000\n 116000   9000  70000  14000  12000 420000]\n"
        }
      ],
      "execution_count": 110,
      "metadata": {
        "jupyter": {
          "source_hidden": false,
          "outputs_hidden": false
        },
        "nteract": {
          "transient": {
            "deleting": false
          }
        },
        "gather": {
          "logged": 1650537410560
        }
      }
    },
    {
      "cell_type": "markdown",
      "source": [
        "Here we can see that there are actually rows with odometer value 0 or something very low. In this model, we want to get information about used cars. Let's decide that used cars have been driven for over 5000 km. "
      ],
      "metadata": {
        "nteract": {
          "transient": {
            "deleting": false
          }
        }
      }
    },
    {
      "cell_type": "code",
      "source": [
        "#Drop all rows where can has been driven under 5000 km\r\n",
        "for index, row in data.iterrows():\r\n",
        "    if row['Odometer'] < 5000:\r\n",
        "        data.drop(index, inplace = True)"
      ],
      "outputs": [],
      "execution_count": 119,
      "metadata": {
        "jupyter": {
          "source_hidden": false,
          "outputs_hidden": false
        },
        "nteract": {
          "transient": {
            "deleting": false
          }
        },
        "gather": {
          "logged": 1650538742307
        }
      }
    },
    {
      "cell_type": "code",
      "source": [
        "print(data['Odometer'].unique())"
      ],
      "outputs": [
        {
          "output_type": "stream",
          "name": "stdout",
          "text": "[ 22000 101000  26000  79000  10000  15000 224000 573000 276000 207000\n 343000 288000 384000 379000 243350 169000 472000 213000 313000 265000\n 217000 225000 338000 304000 241000 179500 212000 227000 127000 188000\n 355000 197000 111000 120000 147700 381000 356000 106000 163000 270000\n 351000 231000 247000 216000 330000 220000 107000 333000 239000 151000\n 113000 165000 118000  30000  60000  92000 155000  29000 249000  94000\n  46000 105000  97000  40000  72000  53000  57000  98000  95000  17000\n  11000   7000 139000   6000  88000  38000 116000   9000  70000  14000\n  12000 420000]\n"
        }
      ],
      "execution_count": 120,
      "metadata": {
        "jupyter": {
          "source_hidden": false,
          "outputs_hidden": false
        },
        "nteract": {
          "transient": {
            "deleting": false
          }
        },
        "gather": {
          "logged": 1650538744534
        }
      }
    },
    {
      "cell_type": "code",
      "source": [
        "print(data['Sales price'].unique())"
      ],
      "outputs": [
        {
          "output_type": "stream",
          "name": "stdout",
          "text": "[ 91800  31800  78800  70800    199    229    500    600    690    700\n    740    800    900   2480   2490   6550   6580   6590   6600  22900\n  35800  66800  92800  51800  32800 129800 124800  38780  45800  33800\n 109800 159800    790]\n"
        }
      ],
      "execution_count": 121,
      "metadata": {
        "jupyter": {
          "source_hidden": false,
          "outputs_hidden": false
        },
        "nteract": {
          "transient": {
            "deleting": false
          }
        },
        "gather": {
          "logged": 1650539127488
        }
      }
    },
    {
      "cell_type": "code",
      "source": [
        "#Drop all rows where Sales price in under 1000 euros\r\n",
        "for index, row in data.iterrows():\r\n",
        "    if row['Sales price'] < 1000:\r\n",
        "        data.drop(index, inplace = True)"
      ],
      "outputs": [],
      "execution_count": 122,
      "metadata": {
        "jupyter": {
          "source_hidden": false,
          "outputs_hidden": false
        },
        "nteract": {
          "transient": {
            "deleting": false
          }
        },
        "gather": {
          "logged": 1650539221615
        }
      }
    },
    {
      "cell_type": "code",
      "source": [
        "data.info()\r\n",
        "data.head()\r\n",
        "data.dtypes"
      ],
      "outputs": [
        {
          "output_type": "stream",
          "name": "stdout",
          "text": "<class 'pandas.core.frame.DataFrame'>\nInt64Index: 10398 entries, 0 to 43704\nData columns (total 4 columns):\n #   Column       Non-Null Count  Dtype \n---  ------       --------------  ----- \n 0   Make         10398 non-null  object\n 1   Model        10398 non-null  object\n 2   Odometer     10398 non-null  int64 \n 3   Sales price  10398 non-null  int64 \ndtypes: int64(2), object(2)\nmemory usage: 406.2+ KB\n"
        },
        {
          "output_type": "execute_result",
          "execution_count": 126,
          "data": {
            "text/plain": "Make           object\nModel          object\nOdometer        int64\nSales price     int64\ndtype: object"
          },
          "metadata": {}
        }
      ],
      "execution_count": 126,
      "metadata": {
        "jupyter": {
          "source_hidden": false,
          "outputs_hidden": false
        },
        "nteract": {
          "transient": {
            "deleting": false
          }
        },
        "gather": {
          "logged": 1650539354474
        }
      }
    },
    {
      "cell_type": "markdown",
      "source": [
        "Data is now cleaned so it can be saved to a new csv file"
      ],
      "metadata": {
        "nteract": {
          "transient": {
            "deleting": false
          }
        }
      }
    },
    {
      "cell_type": "code",
      "source": [
        "data.to_csv('processed_data.csv')"
      ],
      "outputs": [],
      "execution_count": 127,
      "metadata": {
        "jupyter": {
          "source_hidden": false,
          "outputs_hidden": false
        },
        "nteract": {
          "transient": {
            "deleting": false
          }
        },
        "gather": {
          "logged": 1650539432111
        }
      }
    },
    {
      "cell_type": "markdown",
      "source": [
        "## Describing data"
      ],
      "metadata": {
        "nteract": {
          "transient": {
            "deleting": false
          }
        }
      }
    },
    {
      "cell_type": "markdown",
      "source": [
        "## Machine learning model"
      ],
      "metadata": {
        "nteract": {
          "transient": {
            "deleting": false
          }
        }
      }
    }
  ],
  "metadata": {
    "kernel_info": {
      "name": "python38-azureml"
    },
    "kernelspec": {
      "name": "python38-azureml",
      "language": "python",
      "display_name": "Python 3.8 - AzureML"
    },
    "language_info": {
      "name": "python",
      "version": "3.8.5",
      "mimetype": "text/x-python",
      "codemirror_mode": {
        "name": "ipython",
        "version": 3
      },
      "pygments_lexer": "ipython3",
      "nbconvert_exporter": "python",
      "file_extension": ".py"
    },
    "microsoft": {
      "host": {
        "AzureML": {
          "notebookHasBeenCompleted": true
        }
      }
    },
    "nteract": {
      "version": "nteract-front-end@1.0.0"
    }
  },
  "nbformat": 4,
  "nbformat_minor": 2
}