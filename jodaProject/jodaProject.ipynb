{
  "cells": [
    {
      "cell_type": "markdown",
      "source": [
        "# This notebook is a Johdanto datatieteeseen 2022 project. "
      ],
      "metadata": {
        "nteract": {
          "transient": {
            "deleting": false
          }
        }
      }
    },
    {
      "cell_type": "markdown",
      "source": [
        "Information on implementation and other parts of this course's assignments can be found on document. 'instructions.txt'"
      ],
      "metadata": {
        "nteract": {
          "transient": {
            "deleting": false
          }
        }
      }
    },
    {
      "cell_type": "markdown",
      "source": [
        "## Collecting data"
      ],
      "metadata": {
        "nteract": {
          "transient": {
            "deleting": false
          }
        }
      }
    },
    {
      "cell_type": "markdown",
      "source": [
        "In this project, I'm going to use data from Finnish car dealing website Autotalli.com. With this data, I'm going to create a ML model to predict the sales price for particular car. With this in mind, consumer or car dealer can check the valid price for a car. This is particularly interesting, because due to the component crisis, car markets are not saturated. The demand for cars is higher than supply, and therefore the prices have gone up. Before there used to be around 100k cars on sale in nettiauto.com, but nowadays there are about 80k sales notes. I first tried to scrape information from there, but the page loaded a dummy website because it recognised scraping."
      ],
      "metadata": {
        "nteract": {
          "transient": {
            "deleting": false
          }
        }
      }
    },
    {
      "cell_type": "code",
      "source": [
        "#Import needed libraries\r\n",
        "import pandas as pd\r\n",
        "import numpy as np\r\n",
        "from bs4 import BeautifulSoup as bs\r\n",
        "import requests as rq\r\n",
        "import math\r\n"
      ],
      "outputs": [],
      "execution_count": 3,
      "metadata": {
        "jupyter": {
          "outputs_hidden": false,
          "source_hidden": false
        },
        "nteract": {
          "transient": {
            "deleting": false
          }
        },
        "gather": {
          "logged": 1650607435231
        }
      }
    },
    {
      "cell_type": "code",
      "source": [
        "#Scrape data from Autotalli.com\r\n",
        "baseUrl = \"https://www.autotalli.com/vaihtoautot/listaa/sivu/\"\r\n",
        "\r\n",
        "#Dataset for scraped data. This dataset is saved into .csv file as a backup, so no need to scrape multiple times if an error with later coding is occurred.\r\n",
        "raw_data = {\r\n",
        "    'Make': [],\r\n",
        "    'Model': [],\r\n",
        "    'Year': [],\r\n",
        "    'Odometer': [],\r\n",
        "    'Sales price': []\r\n",
        "}"
      ],
      "outputs": [],
      "execution_count": 61,
      "metadata": {
        "jupyter": {
          "source_hidden": false,
          "outputs_hidden": false
        },
        "nteract": {
          "transient": {
            "deleting": false
          }
        },
        "gather": {
          "logged": 1650614992333
        }
      }
    },
    {
      "cell_type": "code",
      "source": [
        "#BS object\r\n",
        "autotalli_page = rq.get(baseUrl)\r\n",
        "soup = bs(autotalli_page.content, 'html.parser')\r\n",
        "#There are 20 cars displayed in each page, so number of pages is number of cars/cars per page, rounded up.\r\n",
        "intMaxPages = math.ceil(int(soup.find('span', class_=\"yhteensa\").text)/100)\r\n",
        "\r\n",
        "#Loop through all pages\r\n",
        "for page in range(2,intMaxPages):\r\n",
        "    #BS object\r\n",
        "    url = baseUrl + str(page) + \"/max_osumia/100\"\r\n",
        "    autotalli_page = rq.get(url)\r\n",
        "    soup = bs(autotalli_page.content, 'html.parser')\r\n",
        "    salesNotes = soup.find_all(\"div\", class_=\"carsListItemDetailsContainer\")\r\n",
        "\r\n",
        "    #Loop through all notes in one page\r\n",
        "    for note in salesNotes:\r\n",
        "        details = note.find(class_=\"carsListItemCarNameContainer\").find(class_=\"carsListItemNameLink\").text\r\n",
        "        #Take car make and model out of details\r\n",
        "        details_splitted = details.split()\r\n",
        "\r\n",
        "        make = details_splitted[0]\r\n",
        "        model = details_splitted[1]\r\n",
        "        \r\n",
        "        year = note.find(class_=\"usedCarsListItemCarModelYear\").find(class_=\"carsListItemCarBottomContainerItem\").text\r\n",
        "        price = note.find(class_=\"carsListItemCarPrice\").find(class_=\"carsListItemCarBottomContainerItem\").text\r\n",
        "        odo = note.find(class_=\"usedCarsListItemCarMeterReading\").find(class_=\"carsListItemCarBottomContainerItem\").text\r\n",
        "\r\n",
        "        #Add data to vector\r\n",
        "        raw_data['Make'].append(make)\r\n",
        "        raw_data['Model'].append(model)\r\n",
        "        raw_data['Year'].append(year)\r\n",
        "        raw_data['Odometer'].append(odo)\r\n",
        "        raw_data['Sales price'].append(price)\r\n",
        "        \r\n",
        "        \r\n",
        "#Write vector to pd dataframe        \r\n",
        "dfRaw = pd.DataFrame(raw_data)\r\n",
        "dfRaw.drop_duplicates(inplace=True)\r\n",
        "print(\"Data scraped with total of\", len(dfRaw), \"rows\")"
      ],
      "outputs": [
        {
          "output_type": "stream",
          "name": "stdout",
          "text": "Data scraped with total of 48442 rows\n"
        }
      ],
      "execution_count": 67,
      "metadata": {
        "jupyter": {
          "source_hidden": false,
          "outputs_hidden": false
        },
        "nteract": {
          "transient": {
            "deleting": false
          }
        },
        "gather": {
          "logged": 1650617394478
        }
      }
    },
    {
      "cell_type": "code",
      "source": [
        "#Write the data to .csv file\r\n",
        "dfRaw.to_csv(\"raw_data.csv\")"
      ],
      "outputs": [],
      "execution_count": 69,
      "metadata": {
        "jupyter": {
          "source_hidden": false,
          "outputs_hidden": false
        },
        "nteract": {
          "transient": {
            "deleting": false
          }
        },
        "gather": {
          "logged": 1650617524798
        }
      }
    },
    {
      "cell_type": "markdown",
      "source": [
        "## Data processing"
      ],
      "metadata": {
        "nteract": {
          "transient": {
            "deleting": false
          }
        }
      }
    },
    {
      "cell_type": "markdown",
      "source": [
        "The data itself is in pretty nice format, because the scraper was implemented for this website only."
      ],
      "metadata": {
        "nteract": {
          "transient": {
            "deleting": false
          }
        }
      }
    },
    {
      "cell_type": "code",
      "source": [
        "#Load the csv file to Pandas dataframe and see what've got\r\n",
        "data = pd.read_csv('raw_data.csv')\r\n",
        "\r\n",
        "#Some basic information about the data\r\n",
        "data.info()\r\n",
        "data.head()"
      ],
      "outputs": [
        {
          "output_type": "stream",
          "name": "stdout",
          "text": "<class 'pandas.core.frame.DataFrame'>\nRangeIndex: 48442 entries, 0 to 48441\nData columns (total 6 columns):\n #   Column       Non-Null Count  Dtype \n---  ------       --------------  ----- \n 0   Unnamed: 0   48442 non-null  int64 \n 1   Make         48442 non-null  object\n 2   Model        48442 non-null  object\n 3   Year         48442 non-null  int64 \n 4   Odometer     48442 non-null  int64 \n 5   Sales price  48442 non-null  int64 \ndtypes: int64(4), object(2)\nmemory usage: 2.2+ MB\n"
        },
        {
          "output_type": "execute_result",
          "execution_count": 33,
          "data": {
            "text/plain": "   Unnamed: 0     Make   Model  Year  Odometer  Sales price\n0           0     Opel  Vectra  2004    307000         1900\n1           1     Ford   Focus  2003    262000         1900\n2           2  Citroën      C5  2004    209000         1900\n3           3      Kia   cee'd  2008    232000         1900\n4           4  Hyundai    Getz  2005    200000         1900",
            "text/html": "<div>\n<style scoped>\n    .dataframe tbody tr th:only-of-type {\n        vertical-align: middle;\n    }\n\n    .dataframe tbody tr th {\n        vertical-align: top;\n    }\n\n    .dataframe thead th {\n        text-align: right;\n    }\n</style>\n<table border=\"1\" class=\"dataframe\">\n  <thead>\n    <tr style=\"text-align: right;\">\n      <th></th>\n      <th>Unnamed: 0</th>\n      <th>Make</th>\n      <th>Model</th>\n      <th>Year</th>\n      <th>Odometer</th>\n      <th>Sales price</th>\n    </tr>\n  </thead>\n  <tbody>\n    <tr>\n      <th>0</th>\n      <td>0</td>\n      <td>Opel</td>\n      <td>Vectra</td>\n      <td>2004</td>\n      <td>307000</td>\n      <td>1900</td>\n    </tr>\n    <tr>\n      <th>1</th>\n      <td>1</td>\n      <td>Ford</td>\n      <td>Focus</td>\n      <td>2003</td>\n      <td>262000</td>\n      <td>1900</td>\n    </tr>\n    <tr>\n      <th>2</th>\n      <td>2</td>\n      <td>Citroën</td>\n      <td>C5</td>\n      <td>2004</td>\n      <td>209000</td>\n      <td>1900</td>\n    </tr>\n    <tr>\n      <th>3</th>\n      <td>3</td>\n      <td>Kia</td>\n      <td>cee'd</td>\n      <td>2008</td>\n      <td>232000</td>\n      <td>1900</td>\n    </tr>\n    <tr>\n      <th>4</th>\n      <td>4</td>\n      <td>Hyundai</td>\n      <td>Getz</td>\n      <td>2005</td>\n      <td>200000</td>\n      <td>1900</td>\n    </tr>\n  </tbody>\n</table>\n</div>"
          },
          "metadata": {}
        }
      ],
      "execution_count": 33,
      "metadata": {
        "jupyter": {
          "source_hidden": false,
          "outputs_hidden": false
        },
        "nteract": {
          "transient": {
            "deleting": false
          }
        },
        "gather": {
          "logged": 1650981986927
        }
      }
    },
    {
      "cell_type": "markdown",
      "source": [
        "The data seems like very clean. Let's remove the \"Unnamed\" column and search for irregularities in different columns."
      ],
      "metadata": {
        "nteract": {
          "transient": {
            "deleting": false
          }
        }
      }
    },
    {
      "cell_type": "code",
      "source": [
        "data.drop(columns = ['Unnamed: 0'], inplace = True)\r\n",
        "data.head()"
      ],
      "outputs": [
        {
          "output_type": "execute_result",
          "execution_count": 34,
          "data": {
            "text/plain": "      Make   Model  Year  Odometer  Sales price\n0     Opel  Vectra  2004    307000         1900\n1     Ford   Focus  2003    262000         1900\n2  Citroën      C5  2004    209000         1900\n3      Kia   cee'd  2008    232000         1900\n4  Hyundai    Getz  2005    200000         1900",
            "text/html": "<div>\n<style scoped>\n    .dataframe tbody tr th:only-of-type {\n        vertical-align: middle;\n    }\n\n    .dataframe tbody tr th {\n        vertical-align: top;\n    }\n\n    .dataframe thead th {\n        text-align: right;\n    }\n</style>\n<table border=\"1\" class=\"dataframe\">\n  <thead>\n    <tr style=\"text-align: right;\">\n      <th></th>\n      <th>Make</th>\n      <th>Model</th>\n      <th>Year</th>\n      <th>Odometer</th>\n      <th>Sales price</th>\n    </tr>\n  </thead>\n  <tbody>\n    <tr>\n      <th>0</th>\n      <td>Opel</td>\n      <td>Vectra</td>\n      <td>2004</td>\n      <td>307000</td>\n      <td>1900</td>\n    </tr>\n    <tr>\n      <th>1</th>\n      <td>Ford</td>\n      <td>Focus</td>\n      <td>2003</td>\n      <td>262000</td>\n      <td>1900</td>\n    </tr>\n    <tr>\n      <th>2</th>\n      <td>Citroën</td>\n      <td>C5</td>\n      <td>2004</td>\n      <td>209000</td>\n      <td>1900</td>\n    </tr>\n    <tr>\n      <th>3</th>\n      <td>Kia</td>\n      <td>cee'd</td>\n      <td>2008</td>\n      <td>232000</td>\n      <td>1900</td>\n    </tr>\n    <tr>\n      <th>4</th>\n      <td>Hyundai</td>\n      <td>Getz</td>\n      <td>2005</td>\n      <td>200000</td>\n      <td>1900</td>\n    </tr>\n  </tbody>\n</table>\n</div>"
          },
          "metadata": {}
        }
      ],
      "execution_count": 34,
      "metadata": {
        "jupyter": {
          "source_hidden": false,
          "outputs_hidden": false
        },
        "nteract": {
          "transient": {
            "deleting": false
          }
        },
        "gather": {
          "logged": 1650981989365
        }
      }
    },
    {
      "cell_type": "code",
      "source": [
        "print(data['Make'].unique())"
      ],
      "outputs": [
        {
          "output_type": "stream",
          "name": "stdout",
          "text": "['Opel' 'Ford' 'Citroën' 'Kia' 'Hyundai' 'Mazda' 'Volkswagen' 'Renault'\n 'Peugeot' 'Nissan' 'Skoda' 'Chrysler' 'Fiat' 'Toyota' 'Volvo' 'Honda'\n 'Mercedes-Benz' 'Chevrolet' 'Saab' 'Alfa' 'Subaru' 'Mitsubishi' 'Audi'\n 'Daewoo' 'Smart' 'Jaguar' 'Dodge' 'BMW' 'Suzuki' 'SEAT' 'Mini' 'Rover'\n 'Lexus' 'Jeep' 'Iveco' 'Dacia' 'Land' 'Cadillac' 'Pontiac' 'Morris'\n 'Lada' 'MG' 'SsangYong' 'Porsche' 'Infiniti' 'Isuzu' 'Abarth' 'Lincoln'\n 'Lancia' 'Plymouth' 'Fiat-Abarth' 'GMC' 'Buick' 'Hummer' 'Maserati'\n 'Moskvitsh' 'DS' 'Lotus' 'Daimler' 'Tesla' 'Cupra' 'Maxus' 'TruckMasters'\n 'Bentley' 'Datsun' 'Polestar' 'Ferrari' 'Mclaren']\n"
        }
      ],
      "execution_count": 35,
      "metadata": {
        "jupyter": {
          "source_hidden": false,
          "outputs_hidden": false
        },
        "nteract": {
          "transient": {
            "deleting": false
          }
        },
        "gather": {
          "logged": 1650981991473
        }
      }
    },
    {
      "cell_type": "code",
      "source": [
        "print(data['Model'].unique())"
      ],
      "outputs": [
        {
          "output_type": "stream",
          "name": "stdout",
          "text": "['Vectra' 'Focus' 'C5' \"cee'd\" 'Getz' '626' 'Passat' 'Laguna' '206' 'Golf'\n '407' '6' 'Primera' 'Octavia' 'Bora' 'Vento' 'Sebring' 'Bravo' 'Avensis'\n 'Carnival' 'V70' 'Meriva' 'Auris' 'Kangoo' 'Civic' 'E' 'Magentis' 'Astra'\n 'Xsara' 'Punto' 'Clio' 'Yaris' 'Mondeo' 'Fiesta' 'Maxima' 'S40' 'C3'\n 'Almera' 'C4' 'Tiida' 'Corsa' 'Expert' 'Mégane' '3' 'Kalos' 'Zafira'\n 'S60' '9-3' 'S80' 'Trajet' 'C' 'Touran' '307' 'Panda' 'Romeo' 'Fabia'\n 'Polo' '240' 'Boxer' 'Outback' 'Cerato' 'Grandis' 'A6' 'Scénic' 'Corolla'\n 'Evanda' 'Nubira' '9-5' 'Pt' '406' 'Epica' 'Vito' '323' 'CR-V' 'Voyager'\n 'A4' 'Micra' 'Transporter' 'ML' 'Forfour' 'C8' 'Grande' 'Accord' 'Camry'\n 'X-Type' 'A' 'Avenger' 'Roomster' 'New' 'Verso' 'V50' 'NOTE' 'Orion'\n 'S70' 'Colt' 'Ka' 'Kadett' 'H1' '607' 'Hiace' '530' 'Liana' 'L-200'\n 'Aveo' '207' 'Santa' '308' 'Impreza' 'S-MAX' 'Grand' 'Carina' 'TT'\n 'Altea' 'Accent' 'C-MAX' 'i30' 'Superb' 'Jazz' 'Previa' 'Fusion' 'Alto'\n 'Stream' 'Caddy' 'Scudo' 'Caliber' 'Baleno' '960' 'Twingo' 'Vivaro'\n 'X-Trail' '5' '316' 'Jetta' 'Saxo' 'Escort' 'Transit' 'A3' '318' 'Jumpy'\n 'CLK' '940' '190' 'Sorento' 'B' 'X3' 'V40' 'Fortwo' '3008' 'Tourneo' '2'\n 'Ducato' '900' 'Espace' 'Cooper' 'Leon' 'Swift' 'Qashqai' 'XC70' 'Jumper'\n 'Legacy' 'Combo' 'Lacetti' 'Galaxy' 'Primastar' 'Forester' 'Lancer'\n 'Spark' 'Outlander' '75' 'Sportage' 'Arosa' 'Captiva' 'One' 'Terracan'\n 'C30' 'Carens' 'Ibiza' 'Insignia' 'Cruze' 'Pajero' 'Hilux' 'Justy'\n 'Sprinter' '500' '330' 'Trafic' '118' '320' 'Chevy' 'Journey' 'Rio' '116'\n 'RX' 'HR-V' 'X5' 'SX4' 'Tucson' 'i20' 'Prius' 'Berlingo' '5008' 'Monte'\n 'Sonata' '520' 'RAV4' 'Daily' 'AYGO' 'Patriot' 'Koleos' 'Phaeton' 'Doblò'\n 'Tigra' 'Tiguan' '325' '525' 'Kuga' 'Orlando' 'Exeo' 'S-Type' 'XC90'\n 'Logan' 'Land' 'Antara' '730' 'Soul' 'Venga' 'C1' 'IS' 'Rover' 'Terrano'\n 'Yeti' '508' 'SLK' 'Maverick' 'B2500' 'DS3' '200' 'Sandero' '107'\n 'Pathfinder' '120' '523' '600' 'A1' '100' 'Touareg' 'S' 'Qashqai+2' 'XV'\n 'BLS' 'Lodgy' 'Corrado' 'i40' 'Fiorino' 'ASX' 'Master' '500L' 'C-Crosser'\n 'C70' 'Partner' 'Nitro' '300C' 'Picanto' 'King' 'Celica' 'Insight'\n 'Pick-up' 'Bipper' 'Murano' 'XF' 'Crafter' 'ix20' 'LT' '180' 'Rapid'\n 'Juke' 'Citigo' 'Karl' '3-sarja' 'Caravelle' 'NP300' 'Fr-V' 'Firebird'\n 'Alhambra' 'CLS' '208' 'Coupe' 'Compass' \"pro_cee'd\" 'Verso-S' 'H-1'\n 'DS4' 'Mii' 'Sts' 'Cube' 'A8' 'Cherokee' 'R' 'Camaro' 'Ranger' '15' 'A5'\n '5-sarja' 'Duster' 'Toledo' 'S90' 'Srx' 'IX55' 'Navara' 'Urban' 'Trax'\n 'GS' '735' '740' 'NV200' 'Rx-8' 'V60' 'Tahoe' 'Seville' 'Pulsar' 'XJ8'\n 'Trailblazer' '535' 'Vitara' 'BB' 'XJ' 'USA' 'Mokka' 'i10' 'Hatchback'\n 'B-Max' 'up!' 'MX-5' 'CX-7' 'ix35' 'Beetle' '500C' 'CLC' '114' 'Scirocco'\n 'Movano' 'Adam' '328' 'Dokker' 'Viano' 'RCZ' 'Expedition' 'C6' 'X1'\n 'Odyssey' 'Space' 'Q7' 'Mini' 'DS5' 'Freemont' 'EOS' 'CX-5' 'Niva' '2008'\n 'Citan' 'Optima' 'ZT-T' 'XC60' 'Granvia' 'Clubman' 'Proace' 'Countryman'\n 'Korando' 'Captur' 'Tivoli' 'Corsa-e' 'MR2' 'Cayenne' 'FX35' 'Q5' 'GLK'\n 'Legend' 'Dyna' 'Prelude' 'Caldina' '500X' '3500' 'D-Max' 'Exiga'\n 'Rexton' 'LS' 'Sigma' '123' 'CR-Z' '108' '1-sarja' 'Veloster' 'Ceed'\n 'Edge' '130' 'Multivan' 'Ecosport' 'Arona' 'Sharan' 'CT' 'John' 'CC'\n 'BT-50' 'Astro' 'CL' 'Crossfire' 'Elgrand' 'Altezza' 'Charger' 'Roadster'\n 'Amarok' 'Skyline' 'Malibu' 'Kadjar' 'NV400' 'Ka+' 'MarkII' 'Crossland'\n '518' 'Tipo' 'Navigator' 'Q3' 'Estima' 'Crown' '216' 'Laurel' 'e'\n 'Alphard' 'Fuga' 'Eldorado' 'Commander' 'S3' 'Thema' '300' 'Valiant' 'S4'\n 'Ampera' 'Stonic' 'Z4' 'Leaf' '2-sarja' 'CX-3' 'Z3' '125' 'Rifter' '335'\n 'Prius+' 'Corvette' '545' 'Alpina' '9-3X' 'Talisman' 'Renegade' 'Towncar'\n 'L200' 'Silverado' 'XK8' '645' 'M5' 'Avalanche' '528' 'Ateca' 'Ignis'\n '218' '500e' '928' 'NV300' 'GL' 'Grandland' '630' 'T-Cross' 'SC' 'X6'\n 'Sierra' 'A7' 'CLA-sarja' 'Talento' '550' 'T-Roc' 'Niro' 'Electra' 'GLA'\n 'Kona' 'IONIQ' 'Ram' 'i3' 'Suburban' 'Boxster' 'C-HR' 'SL' 'Cascada'\n 'Excursion' 'S8' 'XE' 'Scala' 'Q2' 'H2' 'Express' 'V90' 'Karoq' '450'\n 'S5' 'NV250' '220' 'Eclipse' '420' 'XJR' 'Zoe' '650' '750' '280' '635'\n 'Canter' 'e-Berlingo' 'Kamiq' 'Bayon' 'Levorg' 'Wrangler' '4-sarja'\n '6-sarja' 'GT' 'Escalade' 'Puma' 'TTS' '430' '7-sarja' 'G37' 'Mazda2'\n 'F250' 'Kodiaq' 'X4' '350' 'Jimny' 'Jogger' 'e-Soul' 'GT86' 'F150' 'XJS'\n 'Quattroporte' '1.5' 'Taigo' 'Fullback' 'M3' 'NX' '428' 'Swace' '135'\n 'XC40' 'Spacetourer' 'Arteon' 'BRZ' 'FX30d' 'CX-30' 'X2' 'E-PACE' 'M1'\n 'Excel' 'M6' 'S1' '3200' '435' 'MX-30' 'SQ5' 'e-NV200' 'e-208' 'Cabrio'\n 'Arkana' '370Z' 'RS4' 'Riviera' '911' 'Cayman' 'F350' 'RS3' 'CLA' 'UX'\n 'Fastback' 'Tarraco' 'S-Cross' '640' '7' 'XCeed' 'Stinger' 'Panamera'\n 'GLC' 'Mokka-e' 'F-PACE' '1' 'V' 'Kupla' 'Double' 'Cortina' 'Equus' 'Cts'\n 'Model' 'X' 'RC' 'MG' 'e-2008' 'Formentor' 'RS5' 'ES' 'RS' 'Xlr' 'Macan'\n 'ID.3' 'De' 'Combo-e' 'Durango' 'Titan' 'Custom' 'Challenger' 'e-Deliver'\n 'G' 'OX' 'GLE' '540' 'S6' 'Born' 'e-Rifter' 'ID.4' 'Euniq' 'S7' 'Ghibli'\n 'Arnage' 'e-Partner' '340' 'GLB' 'Zafira-e' 'Across' 'Kleinbus' 'GR'\n 'AMG' '996' 'C40' 'EV6' 'SLC' 'Enyaq' 'ë-Jumpy' 'I-PACE' 'Continental'\n 'Flying' 'e-Traveller' 'M2' 'EQA' 'SQ2' 'e-tron' 'Q4' 'i8' 'Pacifica'\n 'Supra' 'F-Type' 'e-Spacetourer' 'M4' 'iX3' '745' 'Viper' 'EQC' 'R8'\n 'EQV' 'EQB' 'GLS' '718' 'XKR' 'Explorer' 'SQ7' '360' 'i4' 'RS6' 'Q8'\n 'F355' 'Levante' 'GT-R' 'iX' 'RS7' 'Evora' '612' 'Taycan' 'F430' 'X7'\n 'EQS' '850' '356' 'California' 'Bentayga' '570s' 'Mulsanne' '458']\n"
        }
      ],
      "execution_count": 36,
      "metadata": {
        "jupyter": {
          "source_hidden": false,
          "outputs_hidden": false
        },
        "nteract": {
          "transient": {
            "deleting": false
          }
        },
        "gather": {
          "logged": 1650981993635
        }
      }
    },
    {
      "cell_type": "code",
      "source": [
        "print(data['Odometer'].unique())\r\n"
      ],
      "outputs": [
        {
          "output_type": "stream",
          "name": "stdout",
          "text": "[307000 262000 209000 ...  59800  12704   4100]\n"
        }
      ],
      "execution_count": 37,
      "metadata": {
        "jupyter": {
          "source_hidden": false,
          "outputs_hidden": false
        },
        "nteract": {
          "transient": {
            "deleting": false
          }
        },
        "gather": {
          "logged": 1650981995444
        }
      }
    },
    {
      "cell_type": "markdown",
      "source": [
        "Here we can see that there are actually rows with odometer value 0 or something very low. In this model, we want to get information about used cars. Let's decide that used cars have been driven for over 1000 km. "
      ],
      "metadata": {
        "nteract": {
          "transient": {
            "deleting": false
          }
        }
      }
    },
    {
      "cell_type": "code",
      "source": [
        "#Drop all rows where car has been driven under 5000 km\r\n",
        "for index, row in data.iterrows():\r\n",
        "    if row['Odometer'] < 5000:\r\n",
        "        data.drop(index, inplace = True)\r\n",
        "\r\n",
        "data.info()"
      ],
      "outputs": [
        {
          "output_type": "stream",
          "name": "stdout",
          "text": "<class 'pandas.core.frame.DataFrame'>\nInt64Index: 45037 entries, 0 to 48441\nData columns (total 5 columns):\n #   Column       Non-Null Count  Dtype \n---  ------       --------------  ----- \n 0   Make         45037 non-null  object\n 1   Model        45037 non-null  object\n 2   Year         45037 non-null  int64 \n 3   Odometer     45037 non-null  int64 \n 4   Sales price  45037 non-null  int64 \ndtypes: int64(3), object(2)\nmemory usage: 2.1+ MB\n"
        }
      ],
      "execution_count": 38,
      "metadata": {
        "jupyter": {
          "source_hidden": false,
          "outputs_hidden": false
        },
        "nteract": {
          "transient": {
            "deleting": false
          }
        },
        "gather": {
          "logged": 1650982007912
        }
      }
    },
    {
      "cell_type": "code",
      "source": [
        "print(data['Sales price'].unique())"
      ],
      "outputs": [
        {
          "output_type": "stream",
          "name": "stdout",
          "text": "[  1900   1940   1950 ... 257900 258458 259800]\n"
        }
      ],
      "execution_count": 39,
      "metadata": {
        "jupyter": {
          "source_hidden": false,
          "outputs_hidden": false
        },
        "nteract": {
          "transient": {
            "deleting": false
          }
        },
        "gather": {
          "logged": 1650982086744
        }
      }
    },
    {
      "cell_type": "markdown",
      "source": [
        "This website also includes leasing deals to be displayed in searches. Let's remove all of them by removing all rows where sales price is under 1000. This will most likely to take out the cars unsuitable for road conditions also."
      ],
      "metadata": {
        "nteract": {
          "transient": {
            "deleting": false
          }
        }
      }
    },
    {
      "cell_type": "code",
      "source": [
        "#Drop all rows where Sales price in under 1000 euros\r\n",
        "for index, row in data.iterrows():\r\n",
        "    if row['Sales price'] < 1000:\r\n",
        "        data.drop(index, inplace = True)"
      ],
      "outputs": [],
      "execution_count": 40,
      "metadata": {
        "jupyter": {
          "source_hidden": false,
          "outputs_hidden": false
        },
        "nteract": {
          "transient": {
            "deleting": false
          }
        },
        "gather": {
          "logged": 1650982091101
        }
      }
    },
    {
      "cell_type": "code",
      "source": [
        "data.info()"
      ],
      "outputs": [
        {
          "output_type": "stream",
          "name": "stdout",
          "text": "<class 'pandas.core.frame.DataFrame'>\nInt64Index: 45037 entries, 0 to 48441\nData columns (total 5 columns):\n #   Column       Non-Null Count  Dtype \n---  ------       --------------  ----- \n 0   Make         45037 non-null  object\n 1   Model        45037 non-null  object\n 2   Year         45037 non-null  int64 \n 3   Odometer     45037 non-null  int64 \n 4   Sales price  45037 non-null  int64 \ndtypes: int64(3), object(2)\nmemory usage: 2.1+ MB\n"
        }
      ],
      "execution_count": 41,
      "metadata": {
        "jupyter": {
          "source_hidden": false,
          "outputs_hidden": false
        },
        "nteract": {
          "transient": {
            "deleting": false
          }
        },
        "gather": {
          "logged": 1650982200581
        }
      }
    },
    {
      "cell_type": "markdown",
      "source": [
        "Data is now cleaned so it can be saved to a new csv file. This data is used for training the ML model."
      ],
      "metadata": {
        "nteract": {
          "transient": {
            "deleting": false
          }
        }
      }
    },
    {
      "cell_type": "code",
      "source": [
        "data.to_csv('train_data.csv', columns = ['Make', 'Model', 'Year', 'Odometer'])"
      ],
      "outputs": [],
      "execution_count": 42,
      "metadata": {
        "jupyter": {
          "source_hidden": false,
          "outputs_hidden": false
        },
        "nteract": {
          "transient": {
            "deleting": false
          }
        },
        "gather": {
          "logged": 1650982203218
        }
      }
    },
    {
      "cell_type": "markdown",
      "source": [
        "## Describing data"
      ],
      "metadata": {
        "nteract": {
          "transient": {
            "deleting": false
          }
        }
      }
    },
    {
      "cell_type": "markdown",
      "source": [
        "The data 'train_data.csv' is imported as a Azure Dataset, and after that connected to Power BI. Seems like Azure ML Notebook doesn't yet support ipywidgets, so embedding PowerBI report via powerbiclient API gives no output. Code is still shown below and report can be accessed from:  [PowerBI Dashboard](https://app.powerbi.com/view?r=eyJrIjoiODk2M2IzZWYtOWJmZi00MmVmLWEzZGMtOWZkMzhhODVkYTZlIiwidCI6ImZhNjk0NGFmLWNjN2MtNGNkOC05MTU0LWMwMTEzMjc5ODkxMCIsImMiOjl9&pageName=ReportSection)"
      ],
      "metadata": {
        "nteract": {
          "transient": {
            "deleting": false
          }
        }
      }
    },
    {
      "cell_type": "code",
      "source": [
        "from powerbiclient import Report, models\r\n",
        "embedUrl =  'https://app.powerbi.com/view?r=eyJrIjoiODk2M2IzZWYtOWJmZi00MmVmLWEzZGMtOWZkMzhhODVkYTZlIiwidCI6ImZhNjk0NGFmLWNjN2MtNGNkOC05MTU0LWMwMTEzMjc5ODkxMCIsImMiOjl9&pageName=ReportSection'"
      ],
      "outputs": [],
      "execution_count": 11,
      "metadata": {
        "jupyter": {
          "source_hidden": false,
          "outputs_hidden": false
        },
        "nteract": {
          "transient": {
            "deleting": false
          }
        },
        "gather": {
          "logged": 1651042175079
        }
      }
    },
    {
      "cell_type": "code",
      "source": [
        "report = Report(embed_url = embedUrl, token_type=models.TokenType.EMBED.value)"
      ],
      "outputs": [
        {
          "output_type": "stream",
          "name": "stdout",
          "text": "Performing interactive authentication. Please follow the instructions on the terminal.\n To sign in, use a web browser to open the page https://microsoft.com/devicelogin and enter the code DU9F2BJSS to authenticate.\nYou have logged in.\nInteractive authentication successfully completed.\n"
        }
      ],
      "execution_count": 12,
      "metadata": {
        "jupyter": {
          "source_hidden": false,
          "outputs_hidden": false
        },
        "nteract": {
          "transient": {
            "deleting": false
          }
        },
        "gather": {
          "logged": 1651042192065
        }
      }
    },
    {
      "cell_type": "code",
      "source": [
        "report\r\n"
      ],
      "outputs": [
        {
          "output_type": "display_data",
          "data": {
            "text/plain": "Report()",
            "application/vnd.jupyter.widget-view+json": {
              "version_major": 2,
              "version_minor": 0,
              "model_id": "06bf9b8b7c1847b1bd8434b2e2fc3201"
            }
          },
          "metadata": {}
        }
      ],
      "execution_count": 14,
      "metadata": {
        "jupyter": {
          "source_hidden": false,
          "outputs_hidden": false
        },
        "nteract": {
          "transient": {
            "deleting": false
          }
        },
        "gather": {
          "logged": 1651042221430
        }
      }
    },
    {
      "cell_type": "markdown",
      "source": [
        "Scatter matrix couldn't be displayed in PowerBI, so it's calculated locally here"
      ],
      "metadata": {
        "nteract": {
          "transient": {
            "deleting": false
          }
        }
      }
    },
    {
      "cell_type": "code",
      "source": [
        "import pandas as pd\r\n",
        "dataset = pd.read_csv('train_data.csv')\r\n",
        "pd.plotting.scatter_matrix(dataset)"
      ],
      "outputs": [
        {
          "output_type": "execute_result",
          "execution_count": 22,
          "data": {
            "text/plain": "array([[<matplotlib.axes._subplots.AxesSubplot object at 0x7f39f616f2e0>,\n        <matplotlib.axes._subplots.AxesSubplot object at 0x7f39f4138700>,\n        <matplotlib.axes._subplots.AxesSubplot object at 0x7f39f40e7b50>,\n        <matplotlib.axes._subplots.AxesSubplot object at 0x7f39f4094f40>],\n       [<matplotlib.axes._subplots.AxesSubplot object at 0x7f39f404c370>,\n        <matplotlib.axes._subplots.AxesSubplot object at 0x7f39f40766a0>,\n        <matplotlib.axes._subplots.AxesSubplot object at 0x7f39f4076790>,\n        <matplotlib.axes._subplots.AxesSubplot object at 0x7f39f4024be0>],\n       [<matplotlib.axes._subplots.AxesSubplot object at 0x7f39f3f893a0>,\n        <matplotlib.axes._subplots.AxesSubplot object at 0x7f39f3fb6790>,\n        <matplotlib.axes._subplots.AxesSubplot object at 0x7f39f3f62bb0>,\n        <matplotlib.axes._subplots.AxesSubplot object at 0x7f39f3f10fa0>],\n       [<matplotlib.axes._subplots.AxesSubplot object at 0x7f39f3ec93d0>,\n        <matplotlib.axes._subplots.AxesSubplot object at 0x7f39f3ef57c0>,\n        <matplotlib.axes._subplots.AxesSubplot object at 0x7f39f3ea2bb0>,\n        <matplotlib.axes._subplots.AxesSubplot object at 0x7f39f3e4ffd0>]],\n      dtype=object)"
          },
          "metadata": {}
        },
        {
          "output_type": "display_data",
          "data": {
            "text/plain": "<Figure size 432x288 with 16 Axes>",
            "image/png": "[encoded data removed]"
          },
          "metadata": {
            "needs_background": "light"
          }
        }
      ],
      "execution_count": 22,
      "metadata": {
        "jupyter": {
          "source_hidden": false,
          "outputs_hidden": false
        },
        "nteract": {
          "transient": {
            "deleting": false
          }
        },
        "gather": {
          "logged": 1650978068102
        }
      }
    },
    {
      "cell_type": "markdown",
      "source": [
        "No obvious problems seems to be occurring in the dataset, so we can move to ML modeling."
      ],
      "metadata": {
        "nteract": {
          "transient": {
            "deleting": false
          }
        }
      }
    },
    {
      "cell_type": "markdown",
      "source": [
        "## Machine learning model"
      ],
      "metadata": {
        "nteract": {
          "transient": {
            "deleting": false
          }
        }
      }
    },
    {
      "cell_type": "markdown",
      "source": [
        "The machine learning steps in this project is done in Azure ML with Automated ML. The 'training_data.csv' have been exported to a dataset in Azure ML storage, and therefore can be used with powerful ML tools. I choose the multi-regression model to predict car sales price based on the different parameters. 15% of the dataset was offered as a test data. Normalized root mean square error in model was 0,028, explained variance 0,88, Spearman correlation 0,94 and normalized mean absolute error 0,016. The picture below shows the weighted importance of different factors in sales price. Car make and year seems to be the most important factors. With these in mind, we can assume that the model gives pretty good predictions for average-year cars. But if the car is very old or have been driven many kilometers, the model is likely to give a polarized price prediction. Below you can also find the average car data characteristics in training data."
      ],
      "metadata": {
        "nteract": {
          "transient": {
            "deleting": false
          }
        }
      }
    },
    {
      "cell_type": "markdown",
      "source": [
        "!['Top 4 ML_model_features'](/ML_model_features.png)!['Key characteristics'](/train_data_key_characteristics.png)"
      ],
      "metadata": {
        "nteract": {
          "transient": {
            "deleting": false
          }
        }
      }
    },
    {
      "cell_type": "markdown",
      "source": [
        "[]()"
      ],
      "metadata": {
        "nteract": {
          "transient": {
            "deleting": false
          }
        }
      }
    },
    {
      "cell_type": "markdown",
      "source": [
        "## User implementation"
      ],
      "metadata": {
        "nteract": {
          "transient": {
            "deleting": false
          }
        }
      }
    },
    {
      "cell_type": "markdown",
      "source": [
        "After the ML model is created, it can be implemented for web use in Azure ML environment. Here below is code generated from endpoint deployment, which is then fitted to a callable function for easy access. The function priceRequestQuota() performs a request to Azure ML endpoint, and calculates the predicted sales price based on user's input and ML model-"
      ],
      "metadata": {
        "nteract": {
          "transient": {
            "deleting": false
          }
        }
      }
    },
    {
      "cell_type": "code",
      "source": [
        "import urllib.request\r\n",
        "import json\r\n",
        "import os\r\n",
        "import ssl\r\n",
        "\r\n",
        "def allowSelfSignedHttps(allowed):\r\n",
        "    # bypass the server certificate verification on client side\r\n",
        "    if allowed and not os.environ.get('PYTHONHTTPSVERIFY', '') and getattr(ssl, '_create_unverified_context', None):\r\n",
        "        ssl._create_default_https_context = ssl._create_unverified_context\r\n",
        "\r\n",
        "allowSelfSignedHttps(True) # this line is needed if you use self-signed certificate in your scoring service.\r\n",
        "\r\n",
        "def priceRequestQuota(Make, Model, Year, Odometer):\r\n",
        "# Request data goes here\r\n",
        "# The example below assumes JSON formatting which may be updated\r\n",
        "# depending on the format your endpoint expects.\r\n",
        "# More information can be found here:\r\n",
        "# https://docs.microsoft.com/azure/machine-learning/how-to-deploy-advanced-entry-script\r\n",
        "    data = {\r\n",
        "    \"Inputs\": {\r\n",
        "        \"data\": [\r\n",
        "            {\r\n",
        "            \"Column2\": \"example_value\",\r\n",
        "            \"Make\": Make,\r\n",
        "            \"Model\": Model,\r\n",
        "            \"Year\": Year,\r\n",
        "            \"Odometer\": Odometer\r\n",
        "            }\r\n",
        "        ]\r\n",
        "    },\r\n",
        "    \"GlobalParameters\": {\r\n",
        "    }\r\n",
        "}\r\n",
        "\r\n",
        "    body = str.encode(json.dumps(data))\r\n",
        "\r\n",
        "    url = 'http://2b7c02b7-0d3c-4535-bd4e-77a39b79a272.northeurope.azurecontainer.io/score'\r\n",
        "    api_key = 'zEZH4P4Vv5uLXaPgavBMdaQ6vNdjYrxi' # Replace this with the API key for the web service\r\n",
        "    headers = {'Content-Type':'application/json', 'Authorization':('Bearer '+ api_key)}\r\n",
        "\r\n",
        "    req = urllib.request.Request(url, body, headers)\r\n",
        "\r\n",
        "    try:\r\n",
        "        response = urllib.request.urlopen(req)\r\n",
        "\r\n",
        "        result = response.read()\r\n",
        "\r\n",
        "        #Decode byte to string\r\n",
        "        decoded = result.decode()\r\n",
        "\r\n",
        "        #Find price inside the tags\r\n",
        "        price = round(float(decoded[decoded.find(\"[\")+1:decoded.find(\"]\")]))\r\n",
        "    \r\n",
        "        #Print market price\r\n",
        "        print(\"The predicted price for\", Make, Model, \"vm.\", Year, Odometer, \"km\")\r\n",
        "        \r\n",
        "        print(\"is\", price, \" euros.\")\r\n",
        "    except urllib.error.HTTPError as error:\r\n",
        "        print(\"The request failed with status code: \" + str(error.code))\r\n",
        "\r\n",
        "        # Print the headers - they include the requert ID and the timestamp, which are useful for debugging the failure\r\n",
        "        print(error.info())\r\n",
        "        print(error.read().decode(\"utf8\", 'ignore'))"
      ],
      "outputs": [],
      "execution_count": 9,
      "metadata": {
        "jupyter": {
          "source_hidden": false,
          "outputs_hidden": false
        },
        "nteract": {
          "transient": {
            "deleting": false
          }
        },
        "gather": {
          "logged": 1651039596168
        }
      }
    },
    {
      "cell_type": "markdown",
      "source": [
        "When running the following code, user is asked for input about the details of car. Please fill out the details below for a quote request. The predicted price is based on Automated ML model generated in Azure ML. "
      ],
      "metadata": {
        "nteract": {
          "transient": {
            "deleting": false
          }
        }
      }
    },
    {
      "cell_type": "code",
      "source": [
        "Make = input(\"Make\")\r\n",
        "Model = input(\"Model\")\r\n",
        "try:\r\n",
        "    Year = int(input(\"Year\"))\r\n",
        "    Odometer = int(input(\"Odometer\"))\r\n",
        "\r\n",
        "    #Call function to request quota from ML model\r\n",
        "    priceRequestQuota(Make, Model, Year, Odometer)\r\n",
        "except:\r\n",
        "    print(\"Year and Odometer must be integers\")\r\n"
      ],
      "outputs": [
        {
          "output_type": "stream",
          "name": "stdout",
          "text": "The predicted price for Volkswagen Golf vm. 2019 200000 km\nis 20062  euros.\n"
        }
      ],
      "execution_count": 16,
      "metadata": {
        "jupyter": {
          "source_hidden": false,
          "outputs_hidden": false
        },
        "nteract": {
          "transient": {
            "deleting": false
          }
        },
        "gather": {
          "logged": 1651045016240
        }
      }
    }
  ],
  "metadata": {
    "kernel_info": {
      "name": "python38-azureml"
    },
    "kernelspec": {
      "name": "python38-azureml",
      "language": "python",
      "display_name": "Python 3.8 - AzureML"
    },
    "language_info": {
      "name": "python",
      "version": "3.8.5",
      "mimetype": "text/x-python",
      "codemirror_mode": {
        "name": "ipython",
        "version": 3
      },
      "pygments_lexer": "ipython3",
      "nbconvert_exporter": "python",
      "file_extension": ".py"
    },
    "microsoft": {
      "host": {
        "AzureML": {
          "notebookHasBeenCompleted": true
        }
      }
    },
    "nteract": {
      "version": "nteract-front-end@1.0.0"
    }
  },
  "nbformat": 4,
  "nbformat_minor": 2
}